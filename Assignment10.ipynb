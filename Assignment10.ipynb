{
 "cells": [
  {
   "cell_type": "code",
   "execution_count": 2,
   "id": "9e246899-bc67-41bd-b942-745de4421d4d",
   "metadata": {},
   "outputs": [
    {
     "name": "stdout",
     "output_type": "stream",
     "text": [
      "Vehicle Name: Sedan\n",
      "Max Speed: 200 km/h\n",
      "Average: 15 km/l\n"
     ]
    }
   ],
   "source": [
    "#Q1. Create a vehicle class with an init method having instance variables as name_of_vehicle, max_speed\n",
    "#and average_of_vehicle.\n",
    "class Vehicle:\n",
    "    def __init__(self, name_of_vehicle, max_speed, average_of_vehicle):\n",
    "        self.name_of_vehicle = name_of_vehicle\n",
    "        self.max_speed = max_speed\n",
    "        self.average_of_vehicle = average_of_vehicle\n",
    "\n",
    "# Example usage:\n",
    "car = Vehicle(\"Sedan\", 200, 15)\n",
    "print(f\"Vehicle Name: {car.name_of_vehicle}\")\n",
    "print(f\"Max Speed: {car.max_speed} km/h\")\n",
    "print(f\"Average: {car.average_of_vehicle} km/l\")\n"
   ]
  },
  {
   "cell_type": "code",
   "execution_count": 4,
   "id": "c4114c57-373c-48d5-9c0a-28e66653673b",
   "metadata": {},
   "outputs": [
    {
     "name": "stdout",
     "output_type": "stream",
     "text": [
      "Vehicle Name: Sedan\n",
      "Max Speed: 200 km/h\n",
      "Average: 15 km/l\n",
      "The Sedan has a seating capacity of 5 persons.\n"
     ]
    }
   ],
   "source": [
    "#Q2. Create a child class car from the vehicle class created in Que 1, which will inherit the vehicle class.\n",
    "#Create a method named seating_capacity which takes capacity as an argument and returns the name of\n",
    "#the vehicle and its seating capacity.\n",
    "class Vehicle:\n",
    "    def __init__(self, name_of_vehicle, max_speed, average_of_vehicle):\n",
    "        self.name_of_vehicle = name_of_vehicle\n",
    "        self.max_speed = max_speed\n",
    "        self.average_of_vehicle = average_of_vehicle\n",
    "\n",
    "class Car(Vehicle):\n",
    "    def seating_capacity(self, capacity):\n",
    "        return f\"The {self.name_of_vehicle} has a seating capacity of {capacity} persons.\"\n",
    "\n",
    "# Example usage:\n",
    "car = Car(\"Sedan\", 200, 15)\n",
    "print(f\"Vehicle Name: {car.name_of_vehicle}\")\n",
    "print(f\"Max Speed: {car.max_speed} km/h\")\n",
    "print(f\"Average: {car.average_of_vehicle} km/l\")\n",
    "print(car.seating_capacity(5))\n"
   ]
  },
  {
   "cell_type": "code",
   "execution_count": 6,
   "id": "2a055153-20cd-4100-a269-31864982f7ff",
   "metadata": {},
   "outputs": [
    {
     "name": "stdout",
     "output_type": "stream",
     "text": [
      "Vehicle Name: SUV\n",
      "Max Speed: 180 km/h\n",
      "Average: 12 km/l\n",
      "Engine Type: Diesel\n",
      "Number of Wheels: 4\n"
     ]
    }
   ],
   "source": [
    "#Q3. What is multiple inheritance? Write a python code to demonstrate multiple inheritance.\n",
    "'''Ans:Multiple Inheritance is a feature in object-oriented programming where a class can inherit\n",
    "attributes and methods from more than one parent class. This allows a child class to use functionalities \n",
    "of multiple base classes.'''\n",
    "class Engine:\n",
    "    def __init__(self, engine_type):\n",
    "        self.engine_type = engine_type\n",
    "\n",
    "    def get_engine_type(self):\n",
    "        return f\"Engine Type: {self.engine_type}\"\n",
    "\n",
    "class Wheels:\n",
    "    def __init__(self, number_of_wheels):\n",
    "        self.number_of_wheels = number_of_wheels\n",
    "\n",
    "    def get_number_of_wheels(self):\n",
    "        return f\"Number of Wheels: {self.number_of_wheels}\"\n",
    "\n",
    "class Car(Vehicle, Engine, Wheels):\n",
    "    def __init__(self, name_of_vehicle, max_speed, average_of_vehicle, engine_type, number_of_wheels):\n",
    "        Vehicle.__init__(self, name_of_vehicle, max_speed, average_of_vehicle)\n",
    "        Engine.__init__(self, engine_type)\n",
    "        Wheels.__init__(self, number_of_wheels)\n",
    "\n",
    "# Example usage:\n",
    "car = Car(\"SUV\", 180, 12, \"Diesel\", 4)\n",
    "print(f\"Vehicle Name: {car.name_of_vehicle}\")\n",
    "print(f\"Max Speed: {car.max_speed} km/h\")\n",
    "print(f\"Average: {car.average_of_vehicle} km/l\")\n",
    "print(car.get_engine_type())\n",
    "print(car.get_number_of_wheels())\n"
   ]
  },
  {
   "cell_type": "code",
   "execution_count": 8,
   "id": "334f4f3e-8f7e-48a1-9a30-bc110f073f1a",
   "metadata": {},
   "outputs": [
    {
     "name": "stdout",
     "output_type": "stream",
     "text": [
      "SUV\n",
      "Sedan\n",
      "200\n"
     ]
    }
   ],
   "source": [
    "#Q4. What are getter and setter in python? Create a class and create a getter and a setter method in this class.\n",
    "'''Ans:Getter: A method that retrieves the value of an attribute.\n",
    "Setter: A method that sets or updates the value of an attribute.'''\n",
    "class Vehicle:\n",
    "    def __init__(self, name_of_vehicle, max_speed, average_of_vehicle):\n",
    "        self._name_of_vehicle = name_of_vehicle  # Using a protected attribute\n",
    "        self._max_speed = max_speed\n",
    "        self._average_of_vehicle = average_of_vehicle\n",
    "\n",
    "    # Getter for name_of_vehicle\n",
    "    @property\n",
    "    def name_of_vehicle(self):\n",
    "        return self._name_of_vehicle\n",
    "\n",
    "    # Setter for name_of_vehicle\n",
    "    @name_of_vehicle.setter\n",
    "    def name_of_vehicle(self, name):\n",
    "        if not name:\n",
    "            raise ValueError(\"Name of the vehicle cannot be empty!\")\n",
    "        self._name_of_vehicle = name\n",
    "\n",
    "    # Example getter and setter for max_speed\n",
    "    @property\n",
    "    def max_speed(self):\n",
    "        return self._max_speed\n",
    "\n",
    "    @max_speed.setter\n",
    "    def max_speed(self, speed):\n",
    "        if speed <= 0:\n",
    "            raise ValueError(\"Speed must be a positive value!\")\n",
    "        self._max_speed = speed\n",
    "\n",
    "# Example usage:\n",
    "car = Vehicle(\"SUV\", 180, 12)\n",
    "print(car.name_of_vehicle)  # Using getter\n",
    "car.name_of_vehicle = \"Sedan\"  # Using setter\n",
    "print(car.name_of_vehicle)\n",
    "\n",
    "car.max_speed = 200  # Setting new speed\n",
    "print(car.max_speed)  # Using getter\n"
   ]
  },
  {
   "cell_type": "code",
   "execution_count": null,
   "id": "3df5cc87-8585-49ee-9b9b-33f3d43969a2",
   "metadata": {},
   "outputs": [],
   "source": [
    "#Q5.What is method overriding in python? Write a python code to demonstrate method overriding.\n",
    "'''Ans: "
   ]
  }
 ],
 "metadata": {
  "kernelspec": {
   "display_name": "Python 3 (ipykernel)",
   "language": "python",
   "name": "python3"
  },
  "language_info": {
   "codemirror_mode": {
    "name": "ipython",
    "version": 3
   },
   "file_extension": ".py",
   "mimetype": "text/x-python",
   "name": "python",
   "nbconvert_exporter": "python",
   "pygments_lexer": "ipython3",
   "version": "3.12.4"
  }
 },
 "nbformat": 4,
 "nbformat_minor": 5
}
